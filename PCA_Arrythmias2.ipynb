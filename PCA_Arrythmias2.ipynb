{
  "nbformat": 4,
  "nbformat_minor": 0,
  "metadata": {
    "colab": {
      "name": "PCA-Arrythmias2.ipynb",
      "version": "0.3.2",
      "provenance": [],
      "collapsed_sections": []
    },
    "kernelspec": {
      "name": "python2",
      "display_name": "Python 2"
    },
    "accelerator": "GPU"
  },
  "cells": [
    {
      "metadata": {
        "id": "oBq-Gu2ZWNR7",
        "colab_type": "text"
      },
      "cell_type": "markdown",
      "source": [
        "### Importing Libraries and Loading Data"
      ]
    },
    {
      "metadata": {
        "id": "1HExoEtaeVKw",
        "colab_type": "code",
        "colab": {}
      },
      "cell_type": "code",
      "source": [
        "# !pip install kaggle\n",
        "\n",
        "# !mkdir .kaggle\n",
        "\n",
        "# import json\n",
        "# token = {\"username\":\"ivyclare\",\"key\":\"86f0e659c102ab797c73851bbad8373e\"}\n",
        "# with open('/content/.kaggle/kaggle.json', 'w') as file:\n",
        "#     json.dump(token, file)\n",
        "\n",
        "# !chmod 600 /content/.kaggle/kaggle.json\n",
        "\n",
        "# !cp /content/.kaggle/kaggle.json ~/.kaggle/kaggle.json\n",
        " \n",
        " \n",
        "# !kaggle config set -n path -v{/content}\n",
        "\n",
        "# !kaggle datasets download -d shayanfazeli/heartbeat -p /content\n",
        "\n",
        "# !unzip \\*.zip"
      ],
      "execution_count": 0,
      "outputs": []
    },
    {
      "metadata": {
        "id": "Lp65WbxrWNR-",
        "colab_type": "code",
        "outputId": "00dcf1ac-6073-4d0e-b428-29363daf27e7",
        "colab": {
          "base_uri": "https://localhost:8080/",
          "height": 34
        }
      },
      "cell_type": "code",
      "source": [
        "import math\n",
        "import random\n",
        "import pickle\n",
        "import itertools\n",
        "\n",
        "import numpy as np # linear algebra\n",
        "import pandas as pd # data processing, CSV file I/O (e.g. pd.read_csv\n",
        "import seaborn as sns\n",
        "\n",
        "from sklearn.metrics import accuracy_score, classification_report, confusion_matrix, label_ranking_average_precision_score, label_ranking_loss, coverage_error \n",
        "\n",
        "from sklearn.utils import shuffle\n",
        "\n",
        "from scipy.signal import resample\n",
        "\n",
        "import matplotlib.pyplot as plt\n",
        "\n",
        "np.random.seed(42)\n",
        "\n",
        "import pickle\n",
        "from sklearn.preprocessing import OneHotEncoder,StandardScaler\n",
        "from sklearn.model_selection import train_test_split \n",
        "from sklearn import svm\n",
        "from sklearn.svm import SVC  \n",
        "from sklearn.svm import LinearSVC\n",
        "from sklearn.model_selection import train_test_split  \n",
        "from sklearn.decomposition import PCA\n",
        "from sklearn.ensemble import BaggingClassifier, RandomForestClassifier\n",
        "from sklearn.feature_selection import SelectFromModel\n",
        "from sklearn.multiclass import OneVsRestClassifier\n",
        "\n",
        "from keras.models import Model\n",
        "from keras.layers import Input, Dense, Conv1D, MaxPooling1D, Softmax, Add, Flatten, Activation# , Dropout\n",
        "from keras import backend as K\n",
        "from keras.optimizers import Adam\n",
        "from keras.callbacks import LearningRateScheduler, ModelCheckpoint\n"
      ],
      "execution_count": 0,
      "outputs": [
        {
          "output_type": "stream",
          "text": [
            "Using TensorFlow backend.\n"
          ],
          "name": "stderr"
        }
      ]
    },
    {
      "metadata": {
        "id": "kHogS_mTWNSG",
        "colab_type": "code",
        "colab": {}
      },
      "cell_type": "code",
      "source": [
        "### Load Dataset\n",
        "train_dataframe = pd.read_csv(\"mitbih_train.csv\", header=None)\n",
        "test_dataframe = pd.read_csv(\"mitbih_test.csv\", header=None)\n",
        "dataframe = pd.concat([train_dataframe,test_dataframe], axis=0)"
      ],
      "execution_count": 0,
      "outputs": []
    },
    {
      "metadata": {
        "id": "2l2Yto07WNSK",
        "colab_type": "text"
      },
      "cell_type": "markdown",
      "source": [
        "### Exploring Data"
      ]
    },
    {
      "metadata": {
        "id": "6f8xaHusWNSL",
        "colab_type": "code",
        "outputId": "29576964-4ab4-4421-970b-5b1339844ddb",
        "colab": {
          "base_uri": "https://localhost:8080/",
          "height": 3041
        }
      },
      "cell_type": "code",
      "source": [
        "#Method For Data Exporation\n",
        "\n",
        "def exploreData(dataframe):\n",
        "    # Preview dataset\n",
        "    print(\"Dataset Head\")\n",
        "    print(dataframe.head(3))\n",
        "    print(\"--\" * 50)\n",
        "    \n",
        "    # Features in dataset\n",
        "    print(\"Dataset Atrributes\")\n",
        "    print(dataframe.columns.values)\n",
        "    print(\"--\" * 50)\n",
        "    \n",
        "     # view distribution of numerical features across the data set\n",
        "    print(\"Dataset Numerical Features\")\n",
        "    print(dataframe.describe())\n",
        "    print(\"--\" * 50)\n",
        "    \n",
        "    # View How many samples and how many missing values for each feature\n",
        "    print(\"Dataset Features Details\")\n",
        "    print(dataframe.info())\n",
        "    print(\"--\" * 50)\n",
        "    \n",
        "    # view distribution of categorical features across the data set\n",
        "#     print(\"Dataset Categorical Features\")\n",
        "#     print(dataframe.describe(include=['O']))\n",
        "#     print(\"--\" * 50)\n",
        "        \n",
        "    #Checking for missing values\n",
        "    print(\"Check for Missing Values\")\n",
        "    print(dataframe.isnull().sum())\n",
        "    print(\"--\" * 50)\n",
        "\n",
        "     #Get number of instances and number of attributes\n",
        "    print(\"Number of Instances and Attributes\")\n",
        "    print(dataframe.shape)\n",
        "    print(\"--\" * 50)\n",
        "    \n",
        "exploreData(dataframe)\n",
        "# Distribution of Output Variable\n",
        "dataframe[187].value_counts()"
      ],
      "execution_count": 0,
      "outputs": [
        {
          "output_type": "stream",
          "text": [
            "Dataset Head\n",
            "        0         1         2         3         4         5         6    \\\n",
            "0  0.977941  0.926471  0.681373  0.245098  0.154412  0.191176  0.151961   \n",
            "1  0.960114  0.863248  0.461538  0.196581  0.094017  0.125356  0.099715   \n",
            "2  1.000000  0.659459  0.186486  0.070270  0.070270  0.059459  0.056757   \n",
            "\n",
            "        7         8         9   ...   178  179  180  181  182  183  184  185  \\\n",
            "0  0.085784  0.058824  0.049020 ...   0.0  0.0  0.0  0.0  0.0  0.0  0.0  0.0   \n",
            "1  0.088319  0.074074  0.082621 ...   0.0  0.0  0.0  0.0  0.0  0.0  0.0  0.0   \n",
            "2  0.043243  0.054054  0.045946 ...   0.0  0.0  0.0  0.0  0.0  0.0  0.0  0.0   \n",
            "\n",
            "   186  187  \n",
            "0  0.0  0.0  \n",
            "1  0.0  0.0  \n",
            "2  0.0  0.0  \n",
            "\n",
            "[3 rows x 188 columns]\n",
            "----------------------------------------------------------------------------------------------------\n",
            "Dataset Atrributes\n",
            "[  0   1   2   3   4   5   6   7   8   9  10  11  12  13  14  15  16  17\n",
            "  18  19  20  21  22  23  24  25  26  27  28  29  30  31  32  33  34  35\n",
            "  36  37  38  39  40  41  42  43  44  45  46  47  48  49  50  51  52  53\n",
            "  54  55  56  57  58  59  60  61  62  63  64  65  66  67  68  69  70  71\n",
            "  72  73  74  75  76  77  78  79  80  81  82  83  84  85  86  87  88  89\n",
            "  90  91  92  93  94  95  96  97  98  99 100 101 102 103 104 105 106 107\n",
            " 108 109 110 111 112 113 114 115 116 117 118 119 120 121 122 123 124 125\n",
            " 126 127 128 129 130 131 132 133 134 135 136 137 138 139 140 141 142 143\n",
            " 144 145 146 147 148 149 150 151 152 153 154 155 156 157 158 159 160 161\n",
            " 162 163 164 165 166 167 168 169 170 171 172 173 174 175 176 177 178 179\n",
            " 180 181 182 183 184 185 186 187]\n",
            "----------------------------------------------------------------------------------------------------\n",
            "Dataset Numerical Features\n",
            "                 0              1              2              3    \\\n",
            "count  109446.000000  109446.000000  109446.000000  109446.000000   \n",
            "mean        0.891170       0.758909       0.424503       0.219602   \n",
            "std         0.239657       0.221190       0.227561       0.207248   \n",
            "min         0.000000       0.000000       0.000000       0.000000   \n",
            "25%         0.922252       0.682648       0.251014       0.048853   \n",
            "50%         0.991202       0.826560       0.430174       0.166355   \n",
            "75%         1.000000       0.910868       0.579832       0.342707   \n",
            "max         1.000000       1.000000       1.000000       1.000000   \n",
            "\n",
            "                 4              5              6              7    \\\n",
            "count  109446.000000  109446.000000  109446.000000  109446.000000   \n",
            "mean        0.201237       0.210298       0.205607       0.201617   \n",
            "std         0.177191       0.171965       0.178374       0.177020   \n",
            "min         0.000000       0.000000       0.000000       0.000000   \n",
            "25%         0.082418       0.088300       0.073171       0.066093   \n",
            "50%         0.147842       0.158640       0.145078       0.144465   \n",
            "75%         0.259045       0.287500       0.298343       0.295235   \n",
            "max         1.000000       1.000000       1.000000       1.000000   \n",
            "\n",
            "                 8              9        ...                  178  \\\n",
            "count  109446.000000  109446.000000      ...        109446.000000   \n",
            "mean        0.198480       0.196610      ...             0.004937   \n",
            "std         0.171469       0.168028      ...             0.043951   \n",
            "min         0.000000       0.000000      ...             0.000000   \n",
            "25%         0.064893       0.068615      ...             0.000000   \n",
            "50%         0.150073       0.148849      ...             0.000000   \n",
            "75%         0.290623       0.283465      ...             0.000000   \n",
            "max         1.000000       1.000000      ...             1.000000   \n",
            "\n",
            "                 179            180            181            182  \\\n",
            "count  109446.000000  109446.000000  109446.000000  109446.000000   \n",
            "mean        0.004568       0.004237       0.003914       0.003673   \n",
            "std         0.042109       0.040471       0.038801       0.037465   \n",
            "min         0.000000       0.000000       0.000000       0.000000   \n",
            "25%         0.000000       0.000000       0.000000       0.000000   \n",
            "50%         0.000000       0.000000       0.000000       0.000000   \n",
            "75%         0.000000       0.000000       0.000000       0.000000   \n",
            "max         1.000000       1.000000       1.000000       1.000000   \n",
            "\n",
            "                 183            184            185            186  \\\n",
            "count  109446.000000  109446.000000  109446.000000  109446.000000   \n",
            "mean        0.003469       0.003210       0.002956       0.002835   \n",
            "std         0.036552       0.035015       0.033413       0.032620   \n",
            "min         0.000000       0.000000       0.000000       0.000000   \n",
            "25%         0.000000       0.000000       0.000000       0.000000   \n",
            "50%         0.000000       0.000000       0.000000       0.000000   \n",
            "75%         0.000000       0.000000       0.000000       0.000000   \n",
            "max         1.000000       1.000000       1.000000       1.000000   \n",
            "\n",
            "                 187  \n",
            "count  109446.000000  \n",
            "mean        0.473439  \n",
            "std         1.143232  \n",
            "min         0.000000  \n",
            "25%         0.000000  \n",
            "50%         0.000000  \n",
            "75%         0.000000  \n",
            "max         4.000000  \n",
            "\n",
            "[8 rows x 188 columns]\n",
            "----------------------------------------------------------------------------------------------------\n",
            "Dataset Features Details\n",
            "<class 'pandas.core.frame.DataFrame'>\n",
            "Int64Index: 109446 entries, 0 to 21891\n",
            "Columns: 188 entries, 0 to 187\n",
            "dtypes: float64(188)\n",
            "memory usage: 157.8 MB\n",
            "None\n",
            "----------------------------------------------------------------------------------------------------\n",
            "Check for Missing Values\n",
            "0      0\n",
            "1      0\n",
            "2      0\n",
            "3      0\n",
            "4      0\n",
            "5      0\n",
            "6      0\n",
            "7      0\n",
            "8      0\n",
            "9      0\n",
            "10     0\n",
            "11     0\n",
            "12     0\n",
            "13     0\n",
            "14     0\n",
            "15     0\n",
            "16     0\n",
            "17     0\n",
            "18     0\n",
            "19     0\n",
            "20     0\n",
            "21     0\n",
            "22     0\n",
            "23     0\n",
            "24     0\n",
            "25     0\n",
            "26     0\n",
            "27     0\n",
            "28     0\n",
            "29     0\n",
            "      ..\n",
            "158    0\n",
            "159    0\n",
            "160    0\n",
            "161    0\n",
            "162    0\n",
            "163    0\n",
            "164    0\n",
            "165    0\n",
            "166    0\n",
            "167    0\n",
            "168    0\n",
            "169    0\n",
            "170    0\n",
            "171    0\n",
            "172    0\n",
            "173    0\n",
            "174    0\n",
            "175    0\n",
            "176    0\n",
            "177    0\n",
            "178    0\n",
            "179    0\n",
            "180    0\n",
            "181    0\n",
            "182    0\n",
            "183    0\n",
            "184    0\n",
            "185    0\n",
            "186    0\n",
            "187    0\n",
            "Length: 188, dtype: int64\n",
            "----------------------------------------------------------------------------------------------------\n",
            "Number of Instances and Attributes\n",
            "(109446, 188)\n",
            "----------------------------------------------------------------------------------------------------\n"
          ],
          "name": "stdout"
        },
        {
          "output_type": "execute_result",
          "data": {
            "text/plain": [
              "0.0    90589\n",
              "4.0     8039\n",
              "2.0     7236\n",
              "1.0     2779\n",
              "3.0      803\n",
              "Name: 187, dtype: int64"
            ]
          },
          "metadata": {
            "tags": []
          },
          "execution_count": 6
        }
      ]
    },
    {
      "metadata": {
        "id": "ZGuZj2e1WNSP",
        "colab_type": "text"
      },
      "cell_type": "markdown",
      "source": [
        "### Observations\n",
        "- No missing values\n",
        "- 109446 samples\n",
        "- 188 attributes\n",
        "- Dataset is unbalanced\n",
        "Data was already filtered and beats extracted according to the paper **ECG Heartbeat Classification: A Deep Transferable\n",
        "Representation**"
      ]
    },
    {
      "metadata": {
        "id": "1PZCM3T4WNSQ",
        "colab_type": "code",
        "colab": {}
      },
      "cell_type": "code",
      "source": [
        "M = dataframe.values\n",
        "X = M[:, :-1]\n",
        "y = M[:, -1].astype(int)"
      ],
      "execution_count": 0,
      "outputs": []
    },
    {
      "metadata": {
        "id": "NIBoaTRyWNST",
        "colab_type": "text"
      },
      "cell_type": "markdown",
      "source": [
        "### Getting Data For Each Category"
      ]
    },
    {
      "metadata": {
        "id": "ukuFjxsgWNST",
        "colab_type": "code",
        "colab": {}
      },
      "cell_type": "code",
      "source": [
        "C0 = np.argwhere(y == 0).flatten()\n",
        "C1 = np.argwhere(y == 1).flatten()\n",
        "C2 = np.argwhere(y == 2).flatten()\n",
        "C3 = np.argwhere(y == 3).flatten()\n",
        "C4 = np.argwhere(y == 4).flatten()"
      ],
      "execution_count": 0,
      "outputs": []
    },
    {
      "metadata": {
        "id": "4CiyrUB_WNSX",
        "colab_type": "code",
        "outputId": "0304bf18-f887-4209-c81e-72ea83855182",
        "colab": {
          "base_uri": "https://localhost:8080/",
          "height": 759
        }
      },
      "cell_type": "code",
      "source": [
        "x = np.arange(0, 187)*8/1000\n",
        "\n",
        "plt.figure(figsize=(20,12))\n",
        "plt.plot(x, X[C0, :][0], label=\"Cat. N\")\n",
        "plt.plot(x, X[C1, :][0], label=\"Cat. S\")\n",
        "plt.plot(x, X[C2, :][0], label=\"Cat. V\")\n",
        "plt.plot(x, X[C3, :][0], label=\"Cat. F\")\n",
        "plt.plot(x, X[C4, :][0], label=\"Cat. Q\")\n",
        "plt.legend()\n",
        "plt.title(\"1-beat ECG for every category\", fontsize=20)\n",
        "plt.ylabel(\"Amplitude\", fontsize=15)\n",
        "plt.xlabel(\"Time (ms)\", fontsize=15)\n",
        "plt.show()"
      ],
      "execution_count": 0,
      "outputs": [
        {
          "output_type": "display_data",
          "data": {
            "image/png": "[encoded data removed]",
            "text/plain": [
              "<matplotlib.figure.Figure at 0x7fd18c3cd510>"
            ]
          },
          "metadata": {
            "tags": []
          }
        }
      ]
    },
    {
      "metadata": {
        "id": "G4cmpvLwWNSb",
        "colab_type": "text"
      },
      "cell_type": "markdown",
      "source": [
        "### Oversampling Data (Balancing the data)"
      ]
    },
    {
      "metadata": {
        "id": "qX0kFxl0WNSc",
        "colab_type": "code",
        "colab": {}
      },
      "cell_type": "code",
      "source": [
        "def stretch(x):\n",
        "    l = int(187 * (1 + (random.random()-0.5)/3))\n",
        "    y = resample(x, l)\n",
        "    if l < 187:\n",
        "        y_ = np.zeros(shape=(187, ))\n",
        "        y_[:l] = y\n",
        "    else:\n",
        "        y_ = y[:187]\n",
        "    return y_\n",
        "\n",
        "def amplify(x):\n",
        "    alpha = (random.random()-0.5)\n",
        "    factor = -alpha*x + (1+alpha)\n",
        "    return x*factor\n",
        "\n",
        "def augment(x):\n",
        "    result = np.zeros(shape= (4, 187))\n",
        "    for i in range(3):\n",
        "        if random.random() < 0.33:\n",
        "            new_y = stretch(x)\n",
        "        elif random.random() < 0.66:\n",
        "            new_y = amplify(x)\n",
        "        else:\n",
        "            new_y = stretch(x)\n",
        "            new_y = amplify(new_y)\n",
        "        result[i, :] = new_y\n",
        "    return result"
      ],
      "execution_count": 0,
      "outputs": []
    },
    {
      "metadata": {
        "id": "SrPiWJ4sWNSf",
        "colab_type": "code",
        "outputId": "a0677b74-f34c-4159-954a-1c4b01e4f056",
        "colab": {
          "base_uri": "https://localhost:8080/",
          "height": 347
        }
      },
      "cell_type": "code",
      "source": [
        "plt.plot(X[0, :])\n",
        "plt.plot(amplify(X[0, :]))\n",
        "plt.plot(stretch(X[0, :]))\n",
        "plt.show()"
      ],
      "execution_count": 0,
      "outputs": [
        {
          "output_type": "display_data",
          "data": {
            "image/png": "[encoded data removed]",
            "text/plain": [
              "<matplotlib.figure.Figure at 0x7fd18c4b3bd0>"
            ]
          },
          "metadata": {
            "tags": []
          }
        }
      ]
    },
    {
      "metadata": {
        "id": "3Ps18bWyWNSj",
        "colab_type": "code",
        "colab": {}
      },
      "cell_type": "code",
      "source": [
        "result = np.apply_along_axis(augment, axis=1, arr=X[C3]).reshape(-1, 187)\n",
        "classe = np.ones(shape=(result.shape[0],), dtype=int)*3\n",
        "X = np.vstack([X, result])\n",
        "y = np.hstack([y, classe])"
      ],
      "execution_count": 0,
      "outputs": []
    },
    {
      "metadata": {
        "id": "_UluI-mZWNSn",
        "colab_type": "text"
      },
      "cell_type": "markdown",
      "source": [
        "### Splitting Data "
      ]
    },
    {
      "metadata": {
        "id": "xOyMnOv6_73_",
        "colab_type": "code",
        "colab": {}
      },
      "cell_type": "code",
      "source": [
        "## Splitting the data with selected features. Ratio 80% train 20% test\n",
        "X_train, X_test, y_train, y_test = train_test_split(X, y, test_size = 0.20) \n"
      ],
      "execution_count": 0,
      "outputs": []
    },
    {
      "metadata": {
        "id": "G99Udsj-A8Sm",
        "colab_type": "text"
      },
      "cell_type": "markdown",
      "source": [
        "### Feature Scaling or Normalizing"
      ]
    },
    {
      "metadata": {
        "id": "BsPJBvqN_78G",
        "colab_type": "code",
        "colab": {}
      },
      "cell_type": "code",
      "source": [
        "# sc = StandardScaler()\n",
        "# X = sc.fit_transform(X)\n",
        "\n",
        "scaler = StandardScaler()\n",
        "# Fit on training set only.\n",
        "scaler.fit(X_train)\n",
        "\n",
        "# Apply transform to both the training set and the test set.\n",
        "X_train = scaler.transform(X_train)\n",
        "X_test = scaler.transform(X_test)"
      ],
      "execution_count": 0,
      "outputs": []
    },
    {
      "metadata": {
        "id": "3xfijB7RBDwo",
        "colab_type": "text"
      },
      "cell_type": "markdown",
      "source": [
        "### Feature Extraction With PCA\n",
        "\n",
        "Notice the code below has .95 for the number of components parameter. It means that scikit-learn choose the minimum number of principal components such that 95% of the variance is retained.\n",
        "\n"
      ]
    },
    {
      "metadata": {
        "id": "MbL4J_Fo_7_8",
        "colab_type": "code",
        "outputId": "6ce8c31d-5151-4bea-c5bb-fd4ec2b89493",
        "colab": {
          "base_uri": "https://localhost:8080/",
          "height": 155
        }
      },
      "cell_type": "code",
      "source": [
        "\n",
        "# Make an instance of the Model\n",
        "pca = PCA(.95)\n",
        "\n",
        "# #fitting PCA on the training set only.\n",
        "# pca.fit_transform(X)\n",
        "# print(pca.n_components_)\n",
        "# print (pca.explained_variance_ratio_)\n",
        "\n",
        "## Apply transform to both the training set and the test set.\n",
        "pca.fit(X_train)\n",
        "print(pca.n_components_)\n",
        "print (pca.explained_variance_ratio_)\n",
        "X_train = pca.transform(X_train)\n",
        "X_test = pca.transform(X_test)\n"
      ],
      "execution_count": 0,
      "outputs": [
        {
          "output_type": "stream",
          "text": [
            "41\n",
            "[0.36532682 0.1562186  0.06702224 0.04799891 0.03351473 0.02478434\n",
            " 0.02291246 0.01804447 0.01617267 0.01469133 0.01300534 0.01187791\n",
            " 0.01148014 0.01104161 0.01013573 0.01005269 0.00940607 0.00894039\n",
            " 0.00842866 0.00764936 0.00678203 0.00650278 0.00576714 0.00538515\n",
            " 0.00501039 0.00466093 0.00445174 0.00421432 0.00394224 0.0038994\n",
            " 0.00376435 0.00355841 0.00335847 0.00326597 0.00313794 0.00291132\n",
            " 0.00271364 0.00258679 0.00244809 0.00236775 0.00228528]\n"
          ],
          "name": "stdout"
        }
      ]
    },
    {
      "metadata": {
        "id": "DE_AMZB_B3_W",
        "colab_type": "text"
      },
      "cell_type": "markdown",
      "source": [
        "### Implementing SVM"
      ]
    },
    {
      "metadata": {
        "id": "fn2L-UhvBYf4",
        "colab_type": "code",
        "colab": {}
      },
      "cell_type": "code",
      "source": [
        "#svclassifier = svm.SVC(C=0.5, kernel='linear')  \n",
        "\n",
        "# Create support vector classifier\n",
        "svclassifier = SVC(kernel='poly', class_weight='balanced', C=1.0, random_state=0)\n"
      ],
      "execution_count": 0,
      "outputs": []
    },
    {
      "metadata": {
        "id": "_uEF-ee4BYjC",
        "colab_type": "code",
        "outputId": "aa340721-1c61-422a-eb9d-ba3d9f9129df",
        "colab": {
          "base_uri": "https://localhost:8080/",
          "height": 141
        }
      },
      "cell_type": "code",
      "source": [
        "\n",
        "##WORKING \n",
        "#svclassifier = LinearSVC(class_weight='balanced', C=1.0, random_state=0, tol=1e-5)\n",
        "\n",
        "n_estimators = 10\n",
        "#svclassifier = OneVsRestClassifier(BaggingClassifier(SVC(kernel='linear', probability=True, class_weight='balanced'), max_samples=1.0 / n_estimators, n_estimators=n_estimators))\n",
        "\n",
        "\n",
        "print(\"..................................Traning set................................\")\n",
        "svclassifier.fit(X_train, y_train)\n",
        "\n",
        "print(svclassifier.predict(X_train))\n",
        "score = svclassifier.score(X_train, y_train)\n",
        "#print (\"Training Set size = \", C)\n",
        "print(\"Training Set accuracy = \", score*100)\n",
        "print(\"Training Set error = \", (1-score)*100)\n",
        "\n"
      ],
      "execution_count": 0,
      "outputs": [
        {
          "output_type": "stream",
          "text": [
            "..................................Traning set................................\n"
          ],
          "name": "stdout"
        },
        {
          "output_type": "stream",
          "text": [
            "/usr/local/lib/python2.7/dist-packages/sklearn/svm/base.py:196: FutureWarning: The default value of gamma will change from 'auto' to 'scale' in version 0.22 to account better for unscaled features. Set gamma explicitly to 'auto' or 'scale' to avoid this warning.\n",
            "  \"avoid this warning.\", FutureWarning)\n"
          ],
          "name": "stderr"
        },
        {
          "output_type": "stream",
          "text": [
            "[0 0 0 ... 0 0 0]\n",
            "('Training Set accuracy = ', 96.2863102767237)\n",
            "('Training Set error = ', 3.7136897232763033)\n"
          ],
          "name": "stdout"
        }
      ]
    },
    {
      "metadata": {
        "id": "4SPTzkFlBfSd",
        "colab_type": "code",
        "outputId": "1ee5018f-6bfa-41d4-8bef-88b9a63d6d0c",
        "colab": {
          "base_uri": "https://localhost:8080/",
          "height": 380
        }
      },
      "cell_type": "code",
      "source": [
        "\n",
        "print(\"..................................Test set...................................\")\n",
        "#Get our result predictions \n",
        "y_pred = svclassifier.predict(X_test)\n",
        "print(y_pred)\n",
        "score = svclassifier.score(X_test, y_test)\n",
        "#print(\"Test Set size = \",X.shape[0]-c)\n",
        "print(\"Test Set accuracy = \", score*100)\n",
        "print(\"Test Set error = \",(1-score)*100)\n",
        "\n",
        "\n",
        "#Get our confusion matrix\n",
        "conf_mat = confusion_matrix(y_test, y_pred)\n",
        "class_report = classification_report(y_test,y_pred)\n",
        "print(conf_mat)\n",
        "print(class_report)"
      ],
      "execution_count": 0,
      "outputs": [
        {
          "output_type": "stream",
          "text": [
            "..................................Test set...................................\n",
            "[0 0 3 ... 0 3 0]\n",
            "('Test Set accuracy = ', 94.82513758210544)\n",
            "('Test Set error = ', 5.174862417894555)\n",
            "[[17345   428   133   298    43]\n",
            " [   66   456     9     5     2]\n",
            " [   49    23  1263    41     2]\n",
            " [   14     4    18   704     2]\n",
            " [   19     2     7     1  1598]]\n",
            "              precision    recall  f1-score   support\n",
            "\n",
            "           0       0.99      0.95      0.97     18247\n",
            "           1       0.50      0.85      0.63       538\n",
            "           2       0.88      0.92      0.90      1378\n",
            "           3       0.67      0.95      0.79       742\n",
            "           4       0.97      0.98      0.98      1627\n",
            "\n",
            "   micro avg       0.95      0.95      0.95     22532\n",
            "   macro avg       0.80      0.93      0.85     22532\n",
            "weighted avg       0.96      0.95      0.95     22532\n",
            "\n"
          ],
          "name": "stdout"
        }
      ]
    },
    {
      "metadata": {
        "id": "wQMr1mNHX7a6",
        "colab_type": "code",
        "outputId": "dd56384a-b302-4a7c-f0c2-3c42e9a7b2a0",
        "colab": {
          "base_uri": "https://localhost:8080/",
          "height": 417
        }
      },
      "cell_type": "code",
      "source": [
        "# Transform to df for easier plotting\n",
        "cm_df = pd.DataFrame(conf_mat,\n",
        "                     index = ['0','1','2','3','4'], \n",
        "                     columns = ['0','1','2','3','4'])\n",
        "\n",
        "plt.figure(figsize=(8.6,6))\n",
        "sns.heatmap(cm_df, annot=True,fmt='g')\n",
        "#plt.title('Arrythmias Prediction Confusion Matrx With SVM')\n",
        "plt.title('PCA-SVM Arrythmias Prediction Confusion Matrx\\nAccuracy: %.2f%% (%.2f%%)' % (score*100, (1-score)*100))\n",
        "plt.ylabel('True label')\n",
        "plt.xlabel('Predicted label')\n",
        "#plt.figtext(1.30, 0.01, 'Accuracy: {}%\\n Sensitivity: {}\\n Specificity: [{} {} {}] '.format(round(accuracy, 2),sensitivity,round(specificity1, 2), round(specificity2, 2),round(specificity3, 2)), horizontalalignment='right')\n",
        "plt.show()"
      ],
      "execution_count": 0,
      "outputs": [
        {
          "output_type": "display_data",
          "data": {
            "image/png": "[encoded data removed]",
            "text/plain": [
              "<matplotlib.figure.Figure at 0x7fd1866c8c50>"
            ]
          },
          "metadata": {
            "tags": []
          }
        }
      ]
    },
    {
      "metadata": {
        "id": "K8uVC2eGX8Ua",
        "colab_type": "code",
        "colab": {}
      },
      "cell_type": "code",
      "source": [
        ""
      ],
      "execution_count": 0,
      "outputs": []
    }
  ]
}